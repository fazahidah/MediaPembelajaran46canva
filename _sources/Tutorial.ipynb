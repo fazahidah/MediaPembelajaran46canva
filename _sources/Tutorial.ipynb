{
 "cells": [
  {
   "cell_type": "markdown",
   "metadata": {},
   "source": [
    "# Canva Intro\n",
    "\n",
    "Canva adalah sebuah platform dan juga aplikasi desain grafis yang memudahkan pengguna untuk membuat konten berbentuk visual seperti poster, presentasi, logo, dan desain untuk posting konten di sosial media.\n",
    "\n",
    "Canva menyediakan layanan gratis yang dapat diakses dimana saja dan fitur yang cukup lengkap untuk desainer pemula hingga menengah."
   ]
  },
  {
   "cell_type": "markdown",
   "metadata": {},
   "source": [
    "# Tutorial Canva\n",
    "\n"
   ]
  },
  {
   "cell_type": "markdown",
   "metadata": {},
   "source": [
    "## Buat akun canva\n",
    "\n",
    "Sebelum membuat desain, kita harus membuat akun dan login terlebih dahulu\n",
    "\n",
    "![Gambar1](https://cdn.statically.io/img/nonanomad.com/f=auto%2Cq=50/wp-content/uploads/2020/09/cara-daftar-aplikasi-canva.png)"
   ]
  },
  {
   "cell_type": "markdown",
   "metadata": {},
   "source": [
    "## Pilih template yang kamu inginkan\n",
    "\n",
    "Canva memiliki banyak koleksi template yang bisa kamu gunakan sesuai dengan kebutuhan.\n",
    "\n",
    "Untuk memulai desain, kamu bisa klik “buat desain” atau langsung pilih saja template yang kamu inginkan pada halaman depan dashboard.\n",
    "\n",
    "Di sini saya akan memberikan contoh desain instagram post atau kiriman instagram."
   ]
  },
  {
   "cell_type": "markdown",
   "metadata": {},
   "source": [
    "## Mulai desain dengan fitur yang ada di Canva\n",
    "\n",
    "Kamu akan diarahkan ke sebuah halaman untuk memulai desain.\n",
    "\n",
    "Ada sedikit perbedaan di tampilan web dan aplikasi.\n",
    "\n",
    "Di aplikasi kamu langung memilih template yang kamu inginkan kemudian membuat perubahan.\n",
    "\n",
    "Sedangkan untuk web, kamu akan dibawa ke halaman kosong untuk memulai desain dan disebelah kiri tersedia template yang bisa kamu gunakan.\n",
    "\n",
    "Saya jelasin terlebih dahulu untuk desain canva melalui situs atau web.\n",
    "\n",
    "Perhatikan sebelah kiri halaman, ada pilihan fitur yang bisa kamu pilih.\n",
    "\n",
    "Fitur editan Canva terdiri dari: \n",
    "\n",
    "    - Template: Desain yang sudah tersedia dan bisa langsung kamu gunakan.\n",
    "    - Unggahan: Kamu bisa mengunggah foto yang ingin kamu masukan ke dalam desain.\n",
    "    - Foto: Koleksi foto yang telah disediakan oleh Canva. Kamu bisa cari di search bar atas untuk foto yang kamu inginkan. Beberapa foto bisa digunakan gratis, namun ada yang memiliki tanda pro yang berarti kamu harus bayar jika ingin menggunakan foto tersebut.\n",
    "    - Element: Menambahkan ikon, bentuk, garis, bingkai, stiker, dan lainnya.\n",
    "    - Text: Menambahkan kata dengan jenis font yang berbeda.\n",
    "    - Musik: Menambahkan audio atau musik ketika nge-desain video atau animas.\n",
    "    - Video: Menambahkan video yang telah disediakan oleh Canva.\n",
    "    - Latar: Latar belakang atau background desain.\n",
    "    - Folder: Menyimpan foto atau elemen yang telah didownlaod atau sukai.\n",
    "    - Lainnya: Integrasi dengan aplikasi lainnya.\n",
    "    - Contoh edit foto menggunakan Canva melalui web\n",
    "\n",
    "Nah, setelah memilih template, kamu tinggal ganti-ganti aja dengan cara mengklik dan menggeser objek yang mau kamu edit.\n",
    "\n",
    "Disini saya mengunggah foto dari internet di fitur unggahan, kemudian saya pilih dan saya geserkan ke bagian foto yang sudah disediakan template.\n",
    "\n",
    "Untuk mengganti tulisan juga saya tinggal klik saja bagian tulisan dan edit kata-kata sesuai yang saya inginkan.\n",
    "\n",
    "Kamu bisa lihat di bagian atas ada pilihan untuk mengganti font, ukuran, warna, posisi dari tulisan.\n",
    "\n",
    "Jika ada bagian yang kurang kamu suka bisa kamu hapus dengan menekan tombol *delete* di keyboard laptop.\n",
    "\n",
    "Di bagian bawah ada pilihan untuk tambah halaman jika ingin desain lebih dari satu halaman.\n",
    "\n",
    "![Gambar2](https://cdn.statically.io/img/nonanomad.com/f=auto%2Cq=50/wp-content/uploads/2020/09/sebelum-diedit.png)\n",
    "\n",
    "Sebelum diedit\n",
    "\n",
    "![Gambar3](https://cdn.statically.io/img/nonanomad.com/f=auto%2Cq=50/wp-content/uploads/2020/09/contoh-hasil-edit-canva.png)\n",
    "\n",
    "Sesudah diedit"
   ]
  },
  {
   "cell_type": "markdown",
   "metadata": {},
   "source": [
    "## Download hasil editan Canva ke folder komputer atau HP\n",
    "\n",
    "Nah, setelah jadi hasil editannya, kamu bisa download atau mengunduh dengan cara klik tombol “unduh” di bagian kanan atas.\n",
    "\n",
    "Pilih jenis file sesuai yang kamu inginkan (PNG, JPG, PDF standar, atau PDF cetak)."
   ]
  },
  {
   "cell_type": "markdown",
   "metadata": {},
   "source": [
    "There is a lot more that you can do with outputs (such as including interactive outputs)\n",
    "with your book. For more information about this, see [the Jupyter Book documentation](https://jupyterbook.org)"
   ]
  }
 ],
 "metadata": {
  "kernelspec": {
   "display_name": "Python 3",
   "language": "python",
   "name": "python3"
  },
  "language_info": {
   "codemirror_mode": {
    "name": "ipython",
    "version": 3
   },
   "file_extension": ".py",
   "mimetype": "text/x-python",
   "name": "python",
   "nbconvert_exporter": "python",
   "pygments_lexer": "ipython3",
   "version": "3.8.0"
  },
  "widgets": {
   "application/vnd.jupyter.widget-state+json": {
    "state": {},
    "version_major": 2,
    "version_minor": 0
   }
  }
 },
 "nbformat": 4,
 "nbformat_minor": 4
}